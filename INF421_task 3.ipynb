{
 "cells": [
  {
   "cell_type": "code",
   "execution_count": 47,
   "id": "d33a56f7-13ef-4b6f-a07f-5f6362eb62bb",
   "metadata": {},
   "outputs": [
    {
     "name": "stdout",
     "output_type": "stream",
     "text": [
      "43\n"
     ]
    }
   ],
   "source": [
    "import math\n",
    "class Tree:\n",
    "    def __init__(self, n):\n",
    "        self.n = n\n",
    "        self.log_n = int(math.log2(n)) + 1\n",
    "        self.g = [[] for _ in range(n)]\n",
    "        self.depth = [0] * n\n",
    "        self.parent = [[0] * n for _ in range(self.n)]\n",
    "        self.logparent=[[0] * n for _ in range(self.log_n)]\n",
    "        self.noise = [0] * n\n",
    "        \n",
    "    def add_edge(self, u, v, w):\n",
    "        self.g[u-1].append((v, w))\n",
    "        self.g[v-1].append((u, w))\n",
    "        \n",
    "    def dfs(self,u):\n",
    "        for v, w in self.g[u-1]:\n",
    "            if v == self.parent[u-1]: \n",
    "                continue\n",
    "            if self.depth[v-1]==0 and v!=1 :\n",
    "                self.parent[v-1][0]=u\n",
    "                self.parent[v-1][1:self.n]=self.parent[u-1][1:self.n]\n",
    "                self.depth[v-1] = self.depth[u-1] + 1\n",
    "                self.noise[v-1] = self.noise[u-1]+w\n",
    "                self.dfs(v)\n",
    "                    \n",
    "    def Lca(self, u, v):\n",
    "        if self.depth[u-1] < self.depth[v-1]:\n",
    "            u, v = v, u\n",
    "        for i in range(self.log_n):\n",
    "            if ((self.depth[u-1] - self.depth[v-1]) >> i) & 1:\n",
    "                u = self.logparent[i-1][u-1]\n",
    "        if u == v:\n",
    "            return u\n",
    "        for i in range(self.log_n-1, -1, -1):\n",
    "            if self.logparent[i][u] != self.logparent[i][v-1]:\n",
    "                u = self.logparent[i][u-1]\n",
    "                v = self.logparent[i][v-1]\n",
    "        return self.logparent[0][u-1]\n",
    "    \n",
    "    def  itineraries_v2(self, u, v):\n",
    "        self.dfs(1)\n",
    "        for j in range (self.n):   \n",
    "            for i in range(self.log_n):\n",
    "                self.logparent[i][j]=self.parent[j][2**i]\n",
    "        Lca = self.Lca(u, v)\n",
    "        return self.noise[u-1]+self.noise[v-1]-2*(self.noise[Lca])\n",
    "V={1,2,3,4,5,6,7,8,9,10}\n",
    "E=[[1,2,11],[2,3,10],[3,4,4],[2,5,4],[1,6,12],[5,7,14],[1,8,0],[8,9,14],[4,10,4]]\n",
    "tree = Tree(len(V))\n",
    "for i in range(len(E)):\n",
    "    tree.add_edge(E[i][0],E[i][1],E[i][2])\n"
   ]
  },
  {
   "cell_type": "code",
   "execution_count": null,
   "id": "51cb395a-692e-4331-ab99-654bf7ce77d9",
   "metadata": {},
   "outputs": [],
   "source": []
  },
  {
   "cell_type": "code",
   "execution_count": null,
   "id": "7df26b20-e302-48a7-a476-93f028c00173",
   "metadata": {},
   "outputs": [],
   "source": []
  },
  {
   "cell_type": "code",
   "execution_count": null,
   "id": "e9d26cf2-f4d3-4023-8275-a6fb85469417",
   "metadata": {},
   "outputs": [],
   "source": []
  }
 ],
 "metadata": {
  "kernelspec": {
   "display_name": "Python 3 (ipykernel)",
   "language": "python",
   "name": "python3"
  },
  "language_info": {
   "codemirror_mode": {
    "name": "ipython",
    "version": 3
   },
   "file_extension": ".py",
   "mimetype": "text/x-python",
   "name": "python",
   "nbconvert_exporter": "python",
   "pygments_lexer": "ipython3",
   "version": "3.10.6"
  }
 },
 "nbformat": 4,
 "nbformat_minor": 5
}
